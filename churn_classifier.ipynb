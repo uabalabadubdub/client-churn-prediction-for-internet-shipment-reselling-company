{
 "cells": [
  {
   "cell_type": "markdown",
   "id": "d702af49-88b7-42bc-be43-5adf5e649a60",
   "metadata": {},
   "source": [
    "**Set up**"
   ]
  },
  {
   "cell_type": "code",
   "execution_count": 1,
   "id": "78f60ed3-f01b-454f-84c9-4bd920d9a3dc",
   "metadata": {},
   "outputs": [
    {
     "name": "stdout",
     "output_type": "stream",
     "text": [
      "Collecting xgboost\n",
      "  Using cached xgboost-1.6.0-py3-none-manylinux2014_x86_64.whl (193.7 MB)\n",
      "Requirement already satisfied: numpy in /opt/conda/lib/python3.7/site-packages (from xgboost) (1.21.5)\n",
      "Requirement already satisfied: scipy in /opt/conda/lib/python3.7/site-packages (from xgboost) (1.7.3)\n",
      "Installing collected packages: xgboost\n",
      "Successfully installed xgboost-1.6.0\n"
     ]
    }
   ],
   "source": [
    "!pip3 install xgboost"
   ]
  },
  {
   "cell_type": "code",
   "execution_count": 2,
   "id": "1e6a317a-ca53-4c53-bfaa-e84b6a16dd80",
   "metadata": {},
   "outputs": [],
   "source": [
    "# General purpose imports\n",
    "import pandas as pd\n",
    "import numpy as np\n",
    "import collections"
   ]
  },
  {
   "cell_type": "code",
   "execution_count": 3,
   "id": "8a3e28c1-6dda-4141-b9a6-687ffd6c4515",
   "metadata": {},
   "outputs": [],
   "source": [
    "# For plotting\n",
    "%matplotlib inline\n",
    "import matplotlib.pyplot as plt"
   ]
  },
  {
   "cell_type": "markdown",
   "id": "e93e4e4e-7674-46e3-b9e3-cefb1df855ad",
   "metadata": {},
   "source": [
    "**Dataset load & feature engineering**"
   ]
  },
  {
   "cell_type": "code",
   "execution_count": 4,
   "id": "d42ffb03-06da-45d0-b525-07d8e13160fb",
   "metadata": {},
   "outputs": [],
   "source": [
    "# To retrieve dataset\n",
    "from google.cloud import bigquery"
   ]
  },
  {
   "cell_type": "code",
   "execution_count": 5,
   "id": "9f8fc25a-da12-4c93-b001-a906dfa4b0db",
   "metadata": {},
   "outputs": [],
   "source": [
    "client = bigquery.Client()"
   ]
  },
  {
   "cell_type": "code",
   "execution_count": 6,
   "id": "a605be3e-98ee-4c08-8496-e80b8a5c669f",
   "metadata": {},
   "outputs": [],
   "source": [
    "query = \"\"\"\n",
    "    SELECT *\n",
    "    FROM packlink-bi.ml_ai_datasets.churn_classifier_sample_20220422\n",
    "    \"\"\""
   ]
  },
  {
   "cell_type": "code",
   "execution_count": 7,
   "id": "c20eb0a9-72ae-47ec-b917-ded386294df6",
   "metadata": {},
   "outputs": [],
   "source": [
    "results = client.query(query)"
   ]
  },
  {
   "cell_type": "code",
   "execution_count": 8,
   "id": "50ef3282-cd12-4297-b7d6-b17f76b1ec8e",
   "metadata": {},
   "outputs": [],
   "source": [
    "dataset_df = results.to_dataframe()"
   ]
  },
  {
   "cell_type": "code",
   "execution_count": 9,
   "id": "c1a823d2-6968-4c50-9b68-5c0b542e8e85",
   "metadata": {},
   "outputs": [
    {
     "data": {
      "text/plain": [
       "Index(['user_id', 'platform', 'market_country', 'user_creation_datetime',\n",
       "       'confirmation_datetime', 'first_purchase_datetime',\n",
       "       'last_purchase_datetime', 'first_integration_datetime',\n",
       "       'last_segment_recorded', 'longevity', 'total_sales',\n",
       "       'avg_sales_per_day', 'min_days_btwn_sales',\n",
       "       'frst_quartile_days_btwn_sales', 'avg_days_btwn_sales',\n",
       "       'median_days_btwn_sales', 'thrd_quartile_days_btwn_sales',\n",
       "       'max_days_btwn_sales', 'min_days_btwn_sale_date',\n",
       "       'fst_quartile_days_btwn_sale_date', 'avg_days_btwn_sale_date',\n",
       "       'median_days_btwn_sale_date', 'thrd_quartile_days_btwn_sale_date',\n",
       "       'frequency', 'recency', 'month_label_count', 'quarter_label_count',\n",
       "       'year_label_count', 'previous_year_label_count', 'historic_label_count',\n",
       "       'month_revenue_eur', 'quarter_revenue_eur', 'year_revenue_eur',\n",
       "       'previous_year_revenue_eur', 'historic_revenue_eur',\n",
       "       'month_average_order_value', 'quarter_aov', 'year_aov',\n",
       "       'year_plat_cntry_aov', 'previous_year_aov',\n",
       "       'previous_year_plat_cntry_aov', 'historic_aov', 'csat',\n",
       "       'cs_tickets_good', 'cs_tickets_offered', 'cs_tickets_unoffered',\n",
       "       'cs_tickets_bad', 'customer_feedback_tickets', 'total_tickets',\n",
       "       'churn_factor', 'status'],\n",
       "      dtype='object')"
      ]
     },
     "execution_count": 9,
     "metadata": {},
     "output_type": "execute_result"
    }
   ],
   "source": [
    "# Features\n",
    "dataset_df.columns"
   ]
  },
  {
   "cell_type": "code",
   "execution_count": 10,
   "id": "33378615-2577-4ee9-9598-cb8261450043",
   "metadata": {},
   "outputs": [
    {
     "data": {
      "text/plain": [
       "user_id                                           object\n",
       "platform                                          object\n",
       "market_country                                    object\n",
       "user_creation_datetime               datetime64[ns, UTC]\n",
       "confirmation_datetime                datetime64[ns, UTC]\n",
       "first_purchase_datetime              datetime64[ns, UTC]\n",
       "last_purchase_datetime               datetime64[ns, UTC]\n",
       "first_integration_datetime           datetime64[ns, UTC]\n",
       "last_segment_recorded                             object\n",
       "longevity                                          int64\n",
       "total_sales                                        int64\n",
       "avg_sales_per_day                                float64\n",
       "min_days_btwn_sales                                int64\n",
       "frst_quartile_days_btwn_sales                      int64\n",
       "avg_days_btwn_sales                                int64\n",
       "median_days_btwn_sales                             int64\n",
       "thrd_quartile_days_btwn_sales                      int64\n",
       "max_days_btwn_sales                                int64\n",
       "min_days_btwn_sale_date                          float64\n",
       "fst_quartile_days_btwn_sale_date                 float64\n",
       "avg_days_btwn_sale_date                          float64\n",
       "median_days_btwn_sale_date                       float64\n",
       "thrd_quartile_days_btwn_sale_date                float64\n",
       "frequency                                        float64\n",
       "recency                                            int64\n",
       "month_label_count                                  int64\n",
       "quarter_label_count                                int64\n",
       "year_label_count                                   int64\n",
       "previous_year_label_count                        float64\n",
       "historic_label_count                               int64\n",
       "month_revenue_eur                                 object\n",
       "quarter_revenue_eur                               object\n",
       "year_revenue_eur                                  object\n",
       "previous_year_revenue_eur                         object\n",
       "historic_revenue_eur                              object\n",
       "month_average_order_value                         object\n",
       "quarter_aov                                       object\n",
       "year_aov                                          object\n",
       "year_plat_cntry_aov                               object\n",
       "previous_year_aov                                 object\n",
       "previous_year_plat_cntry_aov                      object\n",
       "historic_aov                                      object\n",
       "csat                                             float64\n",
       "cs_tickets_good                                  float64\n",
       "cs_tickets_offered                               float64\n",
       "cs_tickets_unoffered                             float64\n",
       "cs_tickets_bad                                   float64\n",
       "customer_feedback_tickets                        float64\n",
       "total_tickets                                    float64\n",
       "churn_factor                                     float64\n",
       "status                                            object\n",
       "dtype: object"
      ]
     },
     "execution_count": 10,
     "metadata": {},
     "output_type": "execute_result"
    }
   ],
   "source": [
    "# Check types\n",
    "dataset_df.dtypes"
   ]
  },
  {
   "cell_type": "code",
   "execution_count": 11,
   "id": "65eef730-b3d2-4d97-936b-90c8f14d75b0",
   "metadata": {},
   "outputs": [],
   "source": [
    "# Assign correct types to incorrect type columns\n",
    "cols = [\"month_revenue_eur\", \"quarter_revenue_eur\", \"year_revenue_eur\",\n",
    "        \"previous_year_revenue_eur\", \"historic_revenue_eur\", \"month_average_order_value\",\n",
    "        \"quarter_aov\", \"year_aov\", \"year_plat_cntry_aov\", \"previous_year_aov\",\n",
    "        \"previous_year_plat_cntry_aov\", \"historic_aov\"]\n",
    "dataset_df[cols] = dataset_df[cols].astype('float64')"
   ]
  },
  {
   "cell_type": "code",
   "execution_count": 12,
   "id": "b6dc9b40-33da-4734-92ae-bb88fc424c55",
   "metadata": {},
   "outputs": [],
   "source": [
    "# Create has_integration column from integration datetime\n",
    "dataset_df[\"has_integration\"] = dataset_df[\"first_integration_datetime\"].notna()"
   ]
  },
  {
   "cell_type": "code",
   "execution_count": 13,
   "id": "2f95a85d-9964-494f-85cb-cc4a1eaedc7f",
   "metadata": {},
   "outputs": [],
   "source": [
    "# Columns to drop for training\n",
    "cols = [\"user_id\", \"user_creation_datetime\", \"confirmation_datetime\", \"first_purchase_datetime\",\n",
    "        \"last_purchase_datetime\", \"first_integration_datetime\", \"churn_factor\"]\n",
    "dataset_df.drop(cols, axis=1, inplace=True)"
   ]
  },
  {
   "cell_type": "code",
   "execution_count": 14,
   "id": "8132999d-dd88-4562-ba1e-4f2dfaf742f0",
   "metadata": {},
   "outputs": [],
   "source": [
    "# Fill null values with 0\n",
    "fillnan_w_0 = [\"min_days_btwn_sale_date\", \"fst_quartile_days_btwn_sale_date\",\n",
    "               \"avg_days_btwn_sale_date\", \"median_days_btwn_sale_date\",\n",
    "               \"thrd_quartile_days_btwn_sale_date\", \"previous_year_label_count\",\n",
    "               \"previous_year_revenue_eur\", \"previous_year_aov\",\n",
    "               \"previous_year_plat_cntry_aov\", \"csat\", \"cs_tickets_good\",\n",
    "               \"cs_tickets_offered\", \"cs_tickets_unoffered\", \"cs_tickets_bad\",\n",
    "               \"customer_feedback_tickets\", \"total_tickets\"]\n",
    "\n",
    "dataset_df[fillnan_w_0] = dataset_df[fillnan_w_0].fillna(0, axis=0)"
   ]
  },
  {
   "cell_type": "code",
   "execution_count": 15,
   "id": "ece9f17f-1c4b-4ef1-ac39-5530f2a49f0f",
   "metadata": {},
   "outputs": [
    {
     "data": {
      "text/plain": [
       "platform                             0\n",
       "market_country                       0\n",
       "last_segment_recorded                0\n",
       "longevity                            0\n",
       "total_sales                          0\n",
       "avg_sales_per_day                    0\n",
       "min_days_btwn_sales                  0\n",
       "frst_quartile_days_btwn_sales        0\n",
       "avg_days_btwn_sales                  0\n",
       "median_days_btwn_sales               0\n",
       "thrd_quartile_days_btwn_sales        0\n",
       "max_days_btwn_sales                  0\n",
       "min_days_btwn_sale_date              0\n",
       "fst_quartile_days_btwn_sale_date     0\n",
       "avg_days_btwn_sale_date              0\n",
       "median_days_btwn_sale_date           0\n",
       "thrd_quartile_days_btwn_sale_date    0\n",
       "frequency                            0\n",
       "recency                              0\n",
       "month_label_count                    0\n",
       "quarter_label_count                  0\n",
       "year_label_count                     0\n",
       "previous_year_label_count            0\n",
       "historic_label_count                 0\n",
       "month_revenue_eur                    0\n",
       "quarter_revenue_eur                  0\n",
       "year_revenue_eur                     0\n",
       "previous_year_revenue_eur            0\n",
       "historic_revenue_eur                 0\n",
       "month_average_order_value            0\n",
       "quarter_aov                          0\n",
       "year_aov                             0\n",
       "year_plat_cntry_aov                  0\n",
       "previous_year_aov                    0\n",
       "previous_year_plat_cntry_aov         0\n",
       "historic_aov                         0\n",
       "csat                                 0\n",
       "cs_tickets_good                      0\n",
       "cs_tickets_offered                   0\n",
       "cs_tickets_unoffered                 0\n",
       "cs_tickets_bad                       0\n",
       "customer_feedback_tickets            0\n",
       "total_tickets                        0\n",
       "status                               0\n",
       "has_integration                      0\n",
       "dtype: int64"
      ]
     },
     "execution_count": 15,
     "metadata": {},
     "output_type": "execute_result"
    }
   ],
   "source": [
    "# Check no more null values\n",
    "dataset_df.isna().sum()"
   ]
  },
  {
   "cell_type": "code",
   "execution_count": 16,
   "id": "bc43767a-018a-400b-80b9-809f33d16efe",
   "metadata": {},
   "outputs": [],
   "source": [
    "# reorder cols to ease array management\n",
    "cols = ['longevity',\n",
    "       'total_sales', 'avg_sales_per_day', 'min_days_btwn_sales',\n",
    "       'frst_quartile_days_btwn_sales', 'avg_days_btwn_sales',\n",
    "       'median_days_btwn_sales', 'thrd_quartile_days_btwn_sales',\n",
    "       'max_days_btwn_sales', 'min_days_btwn_sale_date',\n",
    "       'fst_quartile_days_btwn_sale_date', 'avg_days_btwn_sale_date',\n",
    "       'median_days_btwn_sale_date', 'thrd_quartile_days_btwn_sale_date',\n",
    "       'frequency', 'recency', 'month_label_count', 'quarter_label_count',\n",
    "       'year_label_count', 'previous_year_label_count', 'historic_label_count',\n",
    "       'month_revenue_eur', 'quarter_revenue_eur', 'year_revenue_eur',\n",
    "       'previous_year_revenue_eur', 'historic_revenue_eur',\n",
    "       'month_average_order_value', 'quarter_aov', 'year_aov',\n",
    "       'year_plat_cntry_aov', 'previous_year_aov',\n",
    "       'previous_year_plat_cntry_aov', 'historic_aov', 'csat',\n",
    "       'cs_tickets_good', 'cs_tickets_offered', 'cs_tickets_unoffered',\n",
    "       'cs_tickets_bad', 'customer_feedback_tickets', 'total_tickets',\n",
    "       'platform', 'market_country', 'last_segment_recorded', 'has_integration', 'status']\n",
    "dataset_df = dataset_df[cols]\n",
    "# df to array\n",
    "dataset_array = dataset_df.values\n",
    "binary_features = dataset_array[:, -2:]\n",
    "discrete_features = dataset_array[:, -5:-2]\n",
    "continuous_features = dataset_array[:, :40]"
   ]
  },
  {
   "cell_type": "code",
   "execution_count": 17,
   "id": "3cf904a5-2f13-40f2-b223-95df563275c5",
   "metadata": {},
   "outputs": [],
   "source": [
    "from sklearn.preprocessing import OneHotEncoder, OrdinalEncoder, StandardScaler"
   ]
  },
  {
   "cell_type": "code",
   "execution_count": 18,
   "id": "07266cbf-4b7e-49fa-8adc-d13c1da02529",
   "metadata": {},
   "outputs": [
    {
     "name": "stdout",
     "output_type": "stream",
     "text": [
      "[array([False, True], dtype=object), array(['churned', 'ok'], dtype=object)]\n",
      "[array(['COM', 'EBAY', 'PRO'], dtype=object), array(['DE', 'ES', 'FR', 'GB', 'IE', 'IT', 'UN'], dtype=object), array(['L', 'M', 'Non-recurring', 'S', 'XL', 'XL1', 'XXL'], dtype=object)]\n"
     ]
    }
   ],
   "source": [
    "# continuos features -> standard scaler\n",
    "standar_scaler = StandardScaler()\n",
    "standar_scaler.fit(continuous_features)\n",
    "standarized_features = standar_scaler.transform(continuous_features)\n",
    "\n",
    "# categorical binary -> ordinal encoder\n",
    "ordinal_enc = OrdinalEncoder()\n",
    "ordinal_enc.fit(binary_features)\n",
    "print(ordinal_enc.categories_)\n",
    "ordinal_features = ordinal_enc.transform(binary_features)\n",
    "\n",
    "# categorical discrete -> 1 hot encoder\n",
    "one_hot_enc = OneHotEncoder()\n",
    "one_hot_enc.fit(discrete_features)\n",
    "print(one_hot_enc.categories_)\n",
    "one_hot_features = one_hot_enc.transform(discrete_features).toarray()"
   ]
  },
  {
   "cell_type": "code",
   "execution_count": 19,
   "id": "b677fddc-cdf7-4314-86cd-0ae67beefd6d",
   "metadata": {},
   "outputs": [],
   "source": [
    "# training dataset\n",
    "X = np.hstack((standarized_features, one_hot_features))\n",
    "X = np.hstack((X, ordinal_features))"
   ]
  },
  {
   "cell_type": "code",
   "execution_count": 20,
   "id": "8d50a18a-989a-4bd9-a349-8b4d4e3585c3",
   "metadata": {},
   "outputs": [
    {
     "data": {
      "text/plain": [
       "(51907, 59)"
      ]
     },
     "execution_count": 20,
     "metadata": {},
     "output_type": "execute_result"
    }
   ],
   "source": [
    "X.shape"
   ]
  },
  {
   "cell_type": "markdown",
   "id": "dd4126b2-b96b-4332-90d4-c8fbc445a1e6",
   "metadata": {},
   "source": [
    "**Train / test split**"
   ]
  },
  {
   "cell_type": "code",
   "execution_count": 21,
   "id": "86cbc263-fba5-4840-bc4b-538a4b198bb6",
   "metadata": {},
   "outputs": [],
   "source": [
    "from sklearn.model_selection import train_test_split"
   ]
  },
  {
   "cell_type": "code",
   "execution_count": 22,
   "id": "c25ba03c-4263-4dcb-a0b4-1b144effff14",
   "metadata": {},
   "outputs": [],
   "source": [
    "XX_train, XX_test = train_test_split(X, test_size=0.2)"
   ]
  },
  {
   "cell_type": "code",
   "execution_count": 23,
   "id": "016754fe-f91e-4f31-9471-523e3b6cd15a",
   "metadata": {},
   "outputs": [],
   "source": [
    "X_train = XX_train[:, :-1]\n",
    "y_train = XX_train[:, -1]\n",
    "X_test = XX_test[:, :-1]\n",
    "y_test = XX_test[:, -1]"
   ]
  },
  {
   "cell_type": "code",
   "execution_count": 24,
   "id": "223ebfec-aa4c-4759-950a-9c8b72fc952a",
   "metadata": {},
   "outputs": [
    {
     "data": {
      "text/plain": [
       "(41525, 58)"
      ]
     },
     "execution_count": 24,
     "metadata": {},
     "output_type": "execute_result"
    }
   ],
   "source": [
    "X_train.shape"
   ]
  },
  {
   "cell_type": "markdown",
   "id": "4081731f-2905-4800-8d97-11a24a18bbed",
   "metadata": {},
   "source": [
    "**Feed fordward NN configuration**"
   ]
  },
  {
   "cell_type": "code",
   "execution_count": 25,
   "id": "cc88d635-3b67-4f38-9952-52f6f0061c5c",
   "metadata": {},
   "outputs": [],
   "source": [
    "# https://github.com/naomifridman/Neural-Network-Churn-Prediction\n",
    "# For Keras\n",
    "from keras.models import Sequential\n",
    "from keras.layers import Input, Dense, Dropout, BatchNormalization\n",
    "import keras.optimizers\n",
    "from keras import regularizers\n",
    "from keras.callbacks import EarlyStopping, ModelCheckpoint, ReduceLROnPlateau\n",
    "from keras.utils import np_utils\n",
    "        \n",
    "# as Function: for use in Keras Scikit lear wrapper\n",
    "def churn_nn_classifier(meta, lsize=128):\n",
    "        n_features_in_ = meta[\"n_features_in_\"]\n",
    "        \n",
    "        model = Sequential()\n",
    "        model.add(Input(shape=(n_features_in_,)))\n",
    "        model.add(Dense(lsize, activation='relu'))\n",
    "        model.add(BatchNormalization())\n",
    "        model.add(Dropout(rate=0.25))\n",
    "        model.add(Dense(int(lsize/2), activation='relu'))\n",
    "        model.add(BatchNormalization())\n",
    "        model.add(Dropout(rate=0.25))\n",
    "        model.add(Dense(int(lsize/4), kernel_regularizer=regularizers.l2(0.1), activation='relu'))\n",
    "        model.add(Dropout(rate=0.1))\n",
    "        model.add(Dense(1, activation='sigmoid'))\n",
    "        model.compile(loss='binary_crossentropy', optimizer='adadelta', metrics=['accuracy'])\n",
    "        return model\n",
    "    \n",
    "def drow_history_acc(history):\n",
    "    # list all data in history\n",
    "    print(history.history.keys())\n",
    "    # summarize history for accuracy\n",
    "    plt.plot(history.history['acc'])\n",
    "    plt.plot(history.history['val_acc'])\n",
    "    plt.title('model accuracy')\n",
    "    plt.ylabel('accuracy')\n",
    "    plt.xlabel('epoch')\n",
    "    plt.legend(['train', 'test'], loc='upper left')\n",
    "    plt.show()\n",
    "\n",
    "def drow_history_loss(history):\n",
    "    # summarize history for loss\n",
    "    plt.plot(history.history['loss'])\n",
    "    plt.plot(history.history['val_loss'])\n",
    "    plt.title('model loss')\n",
    "    plt.ylabel('loss')\n",
    "    plt.xlabel('epoch')\n",
    "    plt.legend(['train', 'test'], loc='upper left')\n",
    "    plt.show()"
   ]
  },
  {
   "cell_type": "code",
   "execution_count": 26,
   "id": "ec43e692-67f3-467a-9e8c-7f9489b7f511",
   "metadata": {},
   "outputs": [
    {
     "name": "stdout",
     "output_type": "stream",
     "text": [
      "Collecting scikeras\n",
      "  Using cached scikeras-0.7.0-py3-none-any.whl (27 kB)\n",
      "Requirement already satisfied: scikit-learn>=1.0.0 in /opt/conda/lib/python3.7/site-packages (from scikeras) (1.0.2)\n",
      "Requirement already satisfied: packaging<22.0,>=0.21 in /opt/conda/lib/python3.7/site-packages (from scikeras) (21.3)\n",
      "Requirement already satisfied: importlib-metadata>=3 in /opt/conda/lib/python3.7/site-packages (from scikeras) (4.11.3)\n",
      "Requirement already satisfied: typing-extensions>=3.6.4 in /opt/conda/lib/python3.7/site-packages (from importlib-metadata>=3->scikeras) (4.1.1)\n",
      "Requirement already satisfied: zipp>=0.5 in /opt/conda/lib/python3.7/site-packages (from importlib-metadata>=3->scikeras) (3.7.0)\n",
      "Requirement already satisfied: pyparsing!=3.0.5,>=2.0.2 in /opt/conda/lib/python3.7/site-packages (from packaging<22.0,>=0.21->scikeras) (3.0.7)\n",
      "Requirement already satisfied: scipy>=1.1.0 in /opt/conda/lib/python3.7/site-packages (from scikit-learn>=1.0.0->scikeras) (1.7.3)\n",
      "Requirement already satisfied: threadpoolctl>=2.0.0 in /opt/conda/lib/python3.7/site-packages (from scikit-learn>=1.0.0->scikeras) (3.1.0)\n",
      "Requirement already satisfied: joblib>=0.11 in /opt/conda/lib/python3.7/site-packages (from scikit-learn>=1.0.0->scikeras) (1.0.1)\n",
      "Requirement already satisfied: numpy>=1.14.6 in /opt/conda/lib/python3.7/site-packages (from scikit-learn>=1.0.0->scikeras) (1.21.5)\n",
      "Installing collected packages: scikeras\n",
      "Successfully installed scikeras-0.7.0\n"
     ]
    }
   ],
   "source": [
    "try:\n",
    "    import scikeras\n",
    "except ImportError:\n",
    "    !python -m pip install scikeras"
   ]
  },
  {
   "cell_type": "code",
   "execution_count": 27,
   "id": "e306538d-d4f4-45ae-9426-f225add4f34b",
   "metadata": {},
   "outputs": [],
   "source": [
    "from scikeras.wrappers import KerasClassifier"
   ]
  },
  {
   "cell_type": "code",
   "execution_count": 28,
   "id": "e2f399eb-7757-4f22-8aaf-605bfa6fb9ea",
   "metadata": {},
   "outputs": [],
   "source": [
    "# Callbacks setup\n",
    "checkpointer = ModelCheckpoint(filepath=\"churn_nn_model.h5\", verbose=0, save_best_only=True)\n",
    "reduce_lr = ReduceLROnPlateau(monitor='accuracy', factor=0.2,patience=1, min_lr=0.0001)\n",
    "reduce_val_lr = ReduceLROnPlateau(monitor='val_accuracy', factor=0.4, patience=1, min_lr=0.0001)\n",
    "es = EarlyStopping(monitor='loss', patience=3, verbose=1, mode='auto')\n",
    "\n",
    "callbacks_list = [es, reduce_lr, reduce_val_lr, checkpointer]"
   ]
  },
  {
   "cell_type": "code",
   "execution_count": 30,
   "id": "5c2a6eb0-47b5-4082-b9c1-dd42b0ecda2c",
   "metadata": {},
   "outputs": [],
   "source": [
    "# Scikitlearn wrapper config\n",
    "skNN = KerasClassifier(model=churn_nn_classifier,\n",
    "                       epochs=10,\n",
    "                       batch_size=1026,\n",
    "                       verbose=1,\n",
    "                       fit__validation_data=None,\n",
    "                       callbacks=callbacks_list)"
   ]
  },
  {
   "cell_type": "markdown",
   "id": "57d73153-a8d5-408c-8620-7d52223effc7",
   "metadata": {},
   "source": [
    "**Logistic regressor classfier**"
   ]
  },
  {
   "cell_type": "code",
   "execution_count": 31,
   "id": "db5332fb-4e85-4277-a0b2-df2f16d2fd88",
   "metadata": {},
   "outputs": [],
   "source": [
    "# https://scikit-learn.org/stable/modules/generated/sklearn.linear_model.LogisticRegression.html?highlight=logisticregression#sklearn.linear_model.LogisticRegression\n",
    "from sklearn.linear_model import LogisticRegression\n",
    "\n",
    "LR = LogisticRegression(n_jobs=-1)"
   ]
  },
  {
   "cell_type": "markdown",
   "id": "eaba292c-7e9e-4a43-8a5f-f3d1988a6cf4",
   "metadata": {},
   "source": [
    "**Random Forest classifier**"
   ]
  },
  {
   "cell_type": "code",
   "execution_count": 32,
   "id": "57081281-9a02-4a3e-8a9d-d8b707843a83",
   "metadata": {},
   "outputs": [],
   "source": [
    "# https://scikit-learn.org/stable/modules/generated/sklearn.ensemble.RandomForestClassifier.html#sklearn.ensemble.RandomForestClassifier\n",
    "from sklearn.ensemble import RandomForestClassifier\n",
    "\n",
    "RF = RandomForestClassifier(n_jobs=-1)"
   ]
  },
  {
   "cell_type": "markdown",
   "id": "9d0b6e55-cd76-45d9-84f5-3c1d671a2468",
   "metadata": {},
   "source": [
    "**XGBoost classifier**"
   ]
  },
  {
   "cell_type": "code",
   "execution_count": 33,
   "id": "83549b1f-52d0-4345-a706-6b634b235294",
   "metadata": {},
   "outputs": [],
   "source": [
    "# https://towardsdatascience.com/getting-started-with-xgboost-in-scikit-learn-f69f5f470a97\n",
    "from xgboost import XGBClassifier\n",
    "\n",
    "XGboost = XGBClassifier(n_jobs=-1)"
   ]
  },
  {
   "cell_type": "markdown",
   "id": "210f5fdf-c053-4d83-945a-68f9cce0d1a4",
   "metadata": {},
   "source": [
    "**Training**"
   ]
  },
  {
   "cell_type": "markdown",
   "id": "0d7f0c49-bf1c-4b39-96b6-24537ffc8737",
   "metadata": {},
   "source": [
    "**Training strategy: stratified k-fold**"
   ]
  },
  {
   "cell_type": "code",
   "execution_count": 34,
   "id": "eaa37bfe-7244-4ebc-96ef-d630baad8464",
   "metadata": {},
   "outputs": [],
   "source": [
    "# https://scikit-learn.org/stable/modules/generated/sklearn.model_selection.StratifiedKFold.html\n",
    "from sklearn.model_selection import StratifiedKFold\n",
    "# https://scikit-learn.org/stable/modules/compose.html#pipeline\n",
    "from sklearn.pipeline import Pipeline\n",
    "from sklearn.metrics import accuracy_score\n",
    "\n",
    "def avg_ensemble_train(models, Xtrain, ytrain, Xval, yval):\n",
    "    \n",
    "    model_kfold_result = []\n",
    "    ensemble_prob_pred = np.zeros((yval.shape[0], 2))\n",
    "    ensemble_acc = 0\n",
    "\n",
    "    for model_type, model in models:\n",
    "        print(f\"Training {model_type}...\")\n",
    "        if isinstance(model, KerasClassifier):\n",
    "            model.fit(Xtrain, ytrain, validation_data=(Xval, yval))\n",
    "        else:\n",
    "            model.fit(Xtrain, ytrain)\n",
    "        y_pred_fold = model.predict(Xval)\n",
    "        y_probpred_fold = model.predict_proba(Xval) # binary class; to check to which one it corresponds check model.classes_\n",
    "        fold_accuracy = accuracy_score(y_pred_fold, yval)\n",
    "        model_kfold_result.append((model_type, y_pred_fold, y_probpred_fold, fold_accuracy))\n",
    "        ensemble_prob_pred += y_probpred_fold\n",
    "        ensemble_acc += fold_accuracy\n",
    "\n",
    "    ensemble_prob_pred /= len(models)\n",
    "    ensemble_pred = np.argmax(ensemble_prob_pred, axis=1)\n",
    "    ensemble_acc /= len(models)\n",
    "    \n",
    "    return ensemble_pred, ensemble_prob_pred, ensemble_acc, model_kfold_result\n",
    "\n",
    "\n",
    "def avg_ensemble_predict(models, X):\n",
    "    ensemble_prob_pred = np.zeros((X.shape[0], 2))\n",
    "\n",
    "    for model_type, model in models:\n",
    "        y_probpred_fold = model.predict_proba(X) # binary class; to check to which one it corresponds check model.classes_\n",
    "        ensemble_prob_pred += y_probpred_fold\n",
    "\n",
    "    ensemble_prob_pred /= len(models)\n",
    "    ensemble_pred = np.argmax(ensemble_prob_pred, axis=1)\n",
    "    \n",
    "    return ensemble_pred, ensemble_prob_pred\n",
    "\n",
    "\n",
    "def skfold_train_avg_ensemble(models, X, y, n_splits=5):\n",
    "    skfold = StratifiedKFold(n_splits=n_splits, shuffle=True)\n",
    "    \n",
    "    fold_results = []\n",
    "    training_acc = 0\n",
    "    i = 0\n",
    "    \n",
    "    for train_idx, val_idx in skfold.split(X, y):\n",
    "        x_train_fold, x_val_fold = X[train_idx], X[val_idx]\n",
    "        y_train_fold, y_val_fold = y[train_idx], y[val_idx]\n",
    "        \n",
    "        \n",
    "        print(f\"Fold {i}:\")\n",
    "        result = avg_ensemble_train(models, x_train_fold, y_train_fold, x_val_fold, y_val_fold)\n",
    "        ensemble_pred, ensemble_prob_pred, ensemble_acc, model_kfold_result = result\n",
    "    \n",
    "        fold_results.append((ensemble_pred, ensemble_prob_pred, ensemble_acc, model_kfold_result))\n",
    "        training_acc += ensemble_acc\n",
    "        \n",
    "        i += 1\n",
    "    \n",
    "    training_pred = np.concatenate([fold[0] for fold in fold_results])\n",
    "    training_prob_pred = np.concatenate([fold[1] for fold in fold_results])\n",
    "    training_acc /= n_splits\n",
    "    \n",
    "    return training_acc, training_pred, training_prob_pred, fold_results\n"
   ]
  },
  {
   "cell_type": "markdown",
   "id": "96ec2092-5b5d-4c8f-916f-8399caf29277",
   "metadata": {},
   "source": [
    "**Ensemble config 1: LR, XGBoost, RF**"
   ]
  },
  {
   "cell_type": "code",
   "execution_count": 35,
   "id": "df0d56cb-58c6-466d-a17c-8a94efad22af",
   "metadata": {},
   "outputs": [
    {
     "name": "stdout",
     "output_type": "stream",
     "text": [
      "Fold 0:\n",
      "Training lr...\n",
      "Training xgb...\n",
      "Training rf...\n",
      "Fold 1:\n",
      "Training lr...\n",
      "Training xgb...\n",
      "Training rf...\n",
      "Fold 2:\n",
      "Training lr...\n",
      "Training xgb...\n",
      "Training rf...\n",
      "Fold 3:\n",
      "Training lr...\n",
      "Training xgb...\n",
      "Training rf...\n",
      "Fold 4:\n",
      "Training lr...\n",
      "Training xgb...\n",
      "Training rf...\n"
     ]
    }
   ],
   "source": [
    "e1_lr = LogisticRegression(n_jobs=-1)\n",
    "e1_rf = RandomForestClassifier(n_jobs=-1)\n",
    "e1_xgboost = XGBClassifier(n_jobs=-1)\n",
    "\n",
    "e1_result = skfold_train_avg_ensemble([(\"lr\", e1_lr), (\"xgb\", e1_xgboost), (\"rf\", e1_rf)], X_train, y_train)"
   ]
  },
  {
   "cell_type": "markdown",
   "id": "b5cf505b-0dbb-4357-8f8a-e37e127c44ab",
   "metadata": {},
   "source": [
    "**Ensemble config 2: LR, RF, NN**"
   ]
  },
  {
   "cell_type": "code",
   "execution_count": 37,
   "id": "399bab20-8e18-44ae-8985-1fc5298b4d01",
   "metadata": {},
   "outputs": [
    {
     "name": "stdout",
     "output_type": "stream",
     "text": [
      "Fold 0:\n",
      "Training lr...\n",
      "Training rf...\n",
      "Training nn...\n"
     ]
    },
    {
     "name": "stderr",
     "output_type": "stream",
     "text": [
      "2022-04-27 14:30:04.704846: I tensorflow/stream_executor/cuda/cuda_gpu_executor.cc:936] successful NUMA node read from SysFS had negative value (-1), but there must be at least one NUMA node, so returning NUMA node zero\n",
      "2022-04-27 14:30:04.719005: I tensorflow/stream_executor/cuda/cuda_gpu_executor.cc:936] successful NUMA node read from SysFS had negative value (-1), but there must be at least one NUMA node, so returning NUMA node zero\n",
      "2022-04-27 14:30:04.719456: I tensorflow/stream_executor/cuda/cuda_gpu_executor.cc:936] successful NUMA node read from SysFS had negative value (-1), but there must be at least one NUMA node, so returning NUMA node zero\n",
      "2022-04-27 14:30:04.721314: I tensorflow/core/platform/cpu_feature_guard.cc:151] This TensorFlow binary is optimized with oneAPI Deep Neural Network Library (oneDNN) to use the following CPU instructions in performance-critical operations:  AVX2 FMA\n",
      "To enable them in other operations, rebuild TensorFlow with the appropriate compiler flags.\n",
      "2022-04-27 14:30:04.721786: I tensorflow/stream_executor/cuda/cuda_gpu_executor.cc:936] successful NUMA node read from SysFS had negative value (-1), but there must be at least one NUMA node, so returning NUMA node zero\n",
      "2022-04-27 14:30:04.722216: I tensorflow/stream_executor/cuda/cuda_gpu_executor.cc:936] successful NUMA node read from SysFS had negative value (-1), but there must be at least one NUMA node, so returning NUMA node zero\n",
      "2022-04-27 14:30:04.722569: I tensorflow/stream_executor/cuda/cuda_gpu_executor.cc:936] successful NUMA node read from SysFS had negative value (-1), but there must be at least one NUMA node, so returning NUMA node zero\n",
      "2022-04-27 14:30:05.283724: I tensorflow/stream_executor/cuda/cuda_gpu_executor.cc:936] successful NUMA node read from SysFS had negative value (-1), but there must be at least one NUMA node, so returning NUMA node zero\n",
      "2022-04-27 14:30:05.284174: I tensorflow/stream_executor/cuda/cuda_gpu_executor.cc:936] successful NUMA node read from SysFS had negative value (-1), but there must be at least one NUMA node, so returning NUMA node zero\n",
      "2022-04-27 14:30:05.284497: I tensorflow/stream_executor/cuda/cuda_gpu_executor.cc:936] successful NUMA node read from SysFS had negative value (-1), but there must be at least one NUMA node, so returning NUMA node zero\n",
      "2022-04-27 14:30:05.284815: I tensorflow/core/common_runtime/gpu/gpu_device.cc:1525] Created device /job:localhost/replica:0/task:0/device:GPU:0 with 385 MB memory:  -> device: 0, name: Tesla T4, pci bus id: 0000:00:04.0, compute capability: 7.5\n"
     ]
    },
    {
     "name": "stdout",
     "output_type": "stream",
     "text": [
      "Fold 1:\n",
      "Training lr...\n",
      "Training rf...\n",
      "Training nn...\n",
      "Epoch 6: early stopping\n",
      "Fold 2:\n",
      "Training lr...\n",
      "Training rf...\n",
      "Training nn...\n",
      "Fold 3:\n",
      "Training lr...\n",
      "Training rf...\n",
      "Training nn...\n",
      "Fold 4:\n",
      "Training lr...\n",
      "Training rf...\n",
      "Training nn...\n"
     ]
    }
   ],
   "source": [
    "e2_lr = LogisticRegression(n_jobs=-1)\n",
    "e2_rf = RandomForestClassifier(n_jobs=-1)\n",
    "e2_sknn = KerasClassifier(model=churn_nn_classifier,\n",
    "                          epochs=10,\n",
    "                          batch_size=1026,\n",
    "                          verbose=0,\n",
    "                          fit__validation_data=None,\n",
    "                          callbacks=callbacks_list)\n",
    "\n",
    "e2_result = skfold_train_avg_ensemble([(\"lr\", e2_lr), (\"rf\", e2_rf), (\"nn\", e2_sknn)], X_train, y_train)"
   ]
  },
  {
   "cell_type": "markdown",
   "id": "942c6b31-f4b2-4fd2-a14a-6314758214bc",
   "metadata": {},
   "source": [
    "**Ensemble config 3: LR, XGBoost, RF, NN**"
   ]
  },
  {
   "cell_type": "code",
   "execution_count": 38,
   "id": "0eb1a684-138c-42b4-8ddd-f31e2434394b",
   "metadata": {
    "tags": []
   },
   "outputs": [
    {
     "name": "stdout",
     "output_type": "stream",
     "text": [
      "Fold 0:\n",
      "Training lr...\n",
      "Training xgb...\n",
      "Training rf...\n",
      "Training nn...\n",
      "Fold 1:\n",
      "Training lr...\n",
      "Training xgb...\n",
      "Training rf...\n",
      "Training nn...\n",
      "Fold 2:\n",
      "Training lr...\n",
      "Training xgb...\n",
      "Training rf...\n",
      "Training nn...\n",
      "Epoch 5: early stopping\n",
      "Fold 3:\n",
      "Training lr...\n",
      "Training xgb...\n",
      "Training rf...\n",
      "Training nn...\n",
      "Epoch 6: early stopping\n",
      "Fold 4:\n",
      "Training lr...\n",
      "Training xgb...\n",
      "Training rf...\n",
      "Training nn...\n"
     ]
    }
   ],
   "source": [
    "e3_lr = LogisticRegression(n_jobs=-1)\n",
    "e3_rf = RandomForestClassifier(n_jobs=-1)\n",
    "e3_xgboost = XGBClassifier(n_jobs=-1)\n",
    "e3_sknn = KerasClassifier(model=churn_nn_classifier,\n",
    "                          epochs=10,\n",
    "                          batch_size=1026,\n",
    "                          verbose=0,\n",
    "                          fit__validation_data=None,\n",
    "                          callbacks=callbacks_list)\n",
    "\n",
    "e3_result = skfold_train_avg_ensemble([(\"lr\", e3_lr), (\"xgb\", e3_xgboost), (\"rf\", e3_rf), (\"nn\", e3_sknn)], X_train, y_train)"
   ]
  },
  {
   "cell_type": "markdown",
   "id": "b7420ca0-df22-4d22-9d4b-9264d8c0abe2",
   "metadata": {},
   "source": [
    "**Pipeline**"
   ]
  },
  {
   "cell_type": "code",
   "execution_count": 39,
   "id": "27c6029f-5904-47d5-8ea6-1b801f856115",
   "metadata": {},
   "outputs": [],
   "source": [
    "#def parallel_pipeline():"
   ]
  },
  {
   "cell_type": "markdown",
   "id": "05358e60-687e-4d3c-98aa-8395294751f6",
   "metadata": {},
   "source": [
    "**Evaluation**"
   ]
  },
  {
   "cell_type": "code",
   "execution_count": 40,
   "id": "632e84b4-a7ee-4b7f-8945-7b1cb8365b8f",
   "metadata": {},
   "outputs": [],
   "source": [
    "# https://scikit-learn.org/stable/modules/generated/sklearn.metrics.f1_score.html?highlight=f1_score#sklearn.metrics.f1_score\n",
    "# https://scikit-learn.org/stable/modules/generated/sklearn.metrics.roc_auc_score.html?highlight=roc_auc_score#sklearn.metrics.roc_auc_score\n",
    "from sklearn.metrics import (confusion_matrix, precision_recall_curve, auc,\n",
    "                             roc_curve, roc_auc_score, f1_score, classification_report, \n",
    "                             precision_recall_fscore_support, roc_auc_score, \n",
    "                             accuracy_score, recall_score)\n",
    "\n",
    "# utilities\n",
    "\n",
    "def print_stats(y_true, y_pred):\n",
    "    \n",
    "    print(\"Accuracy: {:.5f}\".format(accuracy_score(y_true, y_pred)))\n",
    "    print(\"Confusion Matrix:\")\n",
    "    print(confusion_matrix(y_true, y_pred))\n",
    "    print(\"Classification Report:\")\n",
    "    print(classification_report(y_true, y_pred))\n",
    "    \n",
    "def drow_roc_curve(y_true, y_pred):\n",
    "    fpr, tpr, thresholds = roc_curve(y_true, y_pred)\n",
    "    roc_auc = auc(fpr, tpr)\n",
    "\n",
    "    plt.title('ROC Curve - Receiver Operating Characteristic')\n",
    "    plt.plot(fpr, tpr, label='AUC = %0.4f'% roc_auc)\n",
    "    plt.legend(loc='lower right')\n",
    "    plt.plot([0,1],[0,1],'g--')\n",
    "    plt.xlim([-0.001, 1])\n",
    "    plt.ylim([0, 1.001])\n",
    "    plt.ylabel('True Positive Rate')\n",
    "    plt.xlabel('False Positive Rate')\n",
    "    plt.show();\n",
    "    \n",
    "def drow_precision_recal(y_true, y_pred):\n",
    "    precision, recall, th = precision_recall_curve(y_true, y_pred)\n",
    "    plt.plot(recall, precision, 'b', label='Precision-Recall curve')\n",
    "    plt.title('Recall vs Precision')\n",
    "    plt.xlabel('Recall')\n",
    "    plt.ylabel('Precision')\n",
    "    plt.xlim([-0.01, 0.5])\n",
    "    plt.show()\n",
    "    \n",
    "def drow_recall(y_true, y_pred):\n",
    "    precision, recall, th = precision_recall_curve(y_true, y_pred)\n",
    "    plt.plot(th, recall[1:], 'b', label='Threshold-Recall curve')\n",
    "    plt.title('Recall for different threshold values')\n",
    "    plt.xlabel('Threshold')\n",
    "    plt.ylabel('Recall')\n",
    "    plt.show()\n",
    "    \n",
    "def drow_precision(y_true, y_pred):\n",
    "    precision, recall, th = precision_recall_curve(y_true, y_pred)\n",
    "    plt.plot(th, precision[1:], 'b', label='Threshold-Precision curve')\n",
    "    plt.title('Precision for different threshold values')\n",
    "    plt.xlabel('Threshold')\n",
    "    plt.ylabel('Precision')\n",
    "    plt.show()\n"
   ]
  },
  {
   "cell_type": "code",
   "execution_count": 41,
   "id": "4402c4f5-ca24-41a1-aa24-feff17a61d6f",
   "metadata": {},
   "outputs": [
    {
     "name": "stdout",
     "output_type": "stream",
     "text": [
      "\n",
      "Ensemble['lr', 'xgb', 'rf']:\n",
      "\n",
      "Accuracy: 0.99557\n",
      "Confusion Matrix:\n",
      "[[4786   30]\n",
      " [  16 5550]]\n",
      "Classification Report:\n",
      "              precision    recall  f1-score   support\n",
      "\n",
      "         0.0       1.00      0.99      1.00      4816\n",
      "         1.0       0.99      1.00      1.00      5566\n",
      "\n",
      "    accuracy                           1.00     10382\n",
      "   macro avg       1.00      1.00      1.00     10382\n",
      "weighted avg       1.00      1.00      1.00     10382\n",
      "\n"
     ]
    },
    {
     "data": {
      "image/png": "[encoded data removed]",
      "text/plain": [
       "<Figure size 432x288 with 1 Axes>"
      ]
     },
     "metadata": {
      "needs_background": "light"
     },
     "output_type": "display_data"
    },
    {
     "name": "stdout",
     "output_type": "stream",
     "text": [
      "\n",
      "Ensemble['lr', 'rf', 'nn']:\n",
      "\n",
      "Accuracy: 0.98902\n",
      "Confusion Matrix:\n",
      "[[4726   90]\n",
      " [  24 5542]]\n",
      "Classification Report:\n",
      "              precision    recall  f1-score   support\n",
      "\n",
      "         0.0       0.99      0.98      0.99      4816\n",
      "         1.0       0.98      1.00      0.99      5566\n",
      "\n",
      "    accuracy                           0.99     10382\n",
      "   macro avg       0.99      0.99      0.99     10382\n",
      "weighted avg       0.99      0.99      0.99     10382\n",
      "\n"
     ]
    },
    {
     "data": {
      "image/png": "[encoded data removed]",
      "text/plain": [
       "<Figure size 432x288 with 1 Axes>"
      ]
     },
     "metadata": {
      "needs_background": "light"
     },
     "output_type": "display_data"
    },
    {
     "name": "stdout",
     "output_type": "stream",
     "text": [
      "\n",
      "Ensemble['lr', 'xgb', 'rf', 'nn']:\n",
      "\n",
      "Accuracy: 0.99538\n",
      "Confusion Matrix:\n",
      "[[4787   29]\n",
      " [  19 5547]]\n",
      "Classification Report:\n",
      "              precision    recall  f1-score   support\n",
      "\n",
      "         0.0       1.00      0.99      1.00      4816\n",
      "         1.0       0.99      1.00      1.00      5566\n",
      "\n",
      "    accuracy                           1.00     10382\n",
      "   macro avg       1.00      1.00      1.00     10382\n",
      "weighted avg       1.00      1.00      1.00     10382\n",
      "\n"
     ]
    },
    {
     "data": {
      "image/png": "[encoded data removed]",
      "text/plain": [
       "<Figure size 432x288 with 1 Axes>"
      ]
     },
     "metadata": {
      "needs_background": "light"
     },
     "output_type": "display_data"
    },
    {
     "name": "stderr",
     "output_type": "stream",
     "text": [
      "/opt/conda/lib/python3.7/site-packages/sklearn/linear_model/_logistic.py:818: ConvergenceWarning: lbfgs failed to converge (status=1):\n",
      "STOP: TOTAL NO. of ITERATIONS REACHED LIMIT.\n",
      "\n",
      "Increase the number of iterations (max_iter) or scale the data as shown in:\n",
      "    https://scikit-learn.org/stable/modules/preprocessing.html\n",
      "Please also refer to the documentation for alternative solver options:\n",
      "    https://scikit-learn.org/stable/modules/linear_model.html#logistic-regression\n",
      "  extra_warning_msg=_LOGISTIC_SOLVER_CONVERGENCE_MSG,\n",
      "/opt/conda/lib/python3.7/site-packages/sklearn/linear_model/_logistic.py:818: ConvergenceWarning: lbfgs failed to converge (status=1):\n",
      "STOP: TOTAL NO. of ITERATIONS REACHED LIMIT.\n",
      "\n",
      "Increase the number of iterations (max_iter) or scale the data as shown in:\n",
      "    https://scikit-learn.org/stable/modules/preprocessing.html\n",
      "Please also refer to the documentation for alternative solver options:\n",
      "    https://scikit-learn.org/stable/modules/linear_model.html#logistic-regression\n",
      "  extra_warning_msg=_LOGISTIC_SOLVER_CONVERGENCE_MSG,\n",
      "/opt/conda/lib/python3.7/site-packages/sklearn/linear_model/_logistic.py:818: ConvergenceWarning: lbfgs failed to converge (status=1):\n",
      "STOP: TOTAL NO. of ITERATIONS REACHED LIMIT.\n",
      "\n",
      "Increase the number of iterations (max_iter) or scale the data as shown in:\n",
      "    https://scikit-learn.org/stable/modules/preprocessing.html\n",
      "Please also refer to the documentation for alternative solver options:\n",
      "    https://scikit-learn.org/stable/modules/linear_model.html#logistic-regression\n",
      "  extra_warning_msg=_LOGISTIC_SOLVER_CONVERGENCE_MSG,\n",
      "/opt/conda/lib/python3.7/site-packages/sklearn/linear_model/_logistic.py:818: ConvergenceWarning: lbfgs failed to converge (status=1):\n",
      "STOP: TOTAL NO. of ITERATIONS REACHED LIMIT.\n",
      "\n",
      "Increase the number of iterations (max_iter) or scale the data as shown in:\n",
      "    https://scikit-learn.org/stable/modules/preprocessing.html\n",
      "Please also refer to the documentation for alternative solver options:\n",
      "    https://scikit-learn.org/stable/modules/linear_model.html#logistic-regression\n",
      "  extra_warning_msg=_LOGISTIC_SOLVER_CONVERGENCE_MSG,\n",
      "/opt/conda/lib/python3.7/site-packages/sklearn/linear_model/_logistic.py:818: ConvergenceWarning: lbfgs failed to converge (status=1):\n",
      "STOP: TOTAL NO. of ITERATIONS REACHED LIMIT.\n",
      "\n",
      "Increase the number of iterations (max_iter) or scale the data as shown in:\n",
      "    https://scikit-learn.org/stable/modules/preprocessing.html\n",
      "Please also refer to the documentation for alternative solver options:\n",
      "    https://scikit-learn.org/stable/modules/linear_model.html#logistic-regression\n",
      "  extra_warning_msg=_LOGISTIC_SOLVER_CONVERGENCE_MSG,\n",
      "/opt/conda/lib/python3.7/site-packages/sklearn/linear_model/_logistic.py:818: ConvergenceWarning: lbfgs failed to converge (status=1):\n",
      "STOP: TOTAL NO. of ITERATIONS REACHED LIMIT.\n",
      "\n",
      "Increase the number of iterations (max_iter) or scale the data as shown in:\n",
      "    https://scikit-learn.org/stable/modules/preprocessing.html\n",
      "Please also refer to the documentation for alternative solver options:\n",
      "    https://scikit-learn.org/stable/modules/linear_model.html#logistic-regression\n",
      "  extra_warning_msg=_LOGISTIC_SOLVER_CONVERGENCE_MSG,\n",
      "/opt/conda/lib/python3.7/site-packages/sklearn/linear_model/_logistic.py:818: ConvergenceWarning: lbfgs failed to converge (status=1):\n",
      "STOP: TOTAL NO. of ITERATIONS REACHED LIMIT.\n",
      "\n",
      "Increase the number of iterations (max_iter) or scale the data as shown in:\n",
      "    https://scikit-learn.org/stable/modules/preprocessing.html\n",
      "Please also refer to the documentation for alternative solver options:\n",
      "    https://scikit-learn.org/stable/modules/linear_model.html#logistic-regression\n",
      "  extra_warning_msg=_LOGISTIC_SOLVER_CONVERGENCE_MSG,\n",
      "/opt/conda/lib/python3.7/site-packages/sklearn/linear_model/_logistic.py:818: ConvergenceWarning: lbfgs failed to converge (status=1):\n",
      "STOP: TOTAL NO. of ITERATIONS REACHED LIMIT.\n",
      "\n",
      "Increase the number of iterations (max_iter) or scale the data as shown in:\n",
      "    https://scikit-learn.org/stable/modules/preprocessing.html\n",
      "Please also refer to the documentation for alternative solver options:\n",
      "    https://scikit-learn.org/stable/modules/linear_model.html#logistic-regression\n",
      "  extra_warning_msg=_LOGISTIC_SOLVER_CONVERGENCE_MSG,\n",
      "/opt/conda/lib/python3.7/site-packages/sklearn/linear_model/_logistic.py:818: ConvergenceWarning: lbfgs failed to converge (status=1):\n",
      "STOP: TOTAL NO. of ITERATIONS REACHED LIMIT.\n",
      "\n",
      "Increase the number of iterations (max_iter) or scale the data as shown in:\n",
      "    https://scikit-learn.org/stable/modules/preprocessing.html\n",
      "Please also refer to the documentation for alternative solver options:\n",
      "    https://scikit-learn.org/stable/modules/linear_model.html#logistic-regression\n",
      "  extra_warning_msg=_LOGISTIC_SOLVER_CONVERGENCE_MSG,\n",
      "/opt/conda/lib/python3.7/site-packages/sklearn/linear_model/_logistic.py:818: ConvergenceWarning: lbfgs failed to converge (status=1):\n",
      "STOP: TOTAL NO. of ITERATIONS REACHED LIMIT.\n",
      "\n",
      "Increase the number of iterations (max_iter) or scale the data as shown in:\n",
      "    https://scikit-learn.org/stable/modules/preprocessing.html\n",
      "Please also refer to the documentation for alternative solver options:\n",
      "    https://scikit-learn.org/stable/modules/linear_model.html#logistic-regression\n",
      "  extra_warning_msg=_LOGISTIC_SOLVER_CONVERGENCE_MSG,\n",
      "/opt/conda/lib/python3.7/site-packages/sklearn/linear_model/_logistic.py:818: ConvergenceWarning: lbfgs failed to converge (status=1):\n",
      "STOP: TOTAL NO. of ITERATIONS REACHED LIMIT.\n",
      "\n",
      "Increase the number of iterations (max_iter) or scale the data as shown in:\n",
      "    https://scikit-learn.org/stable/modules/preprocessing.html\n",
      "Please also refer to the documentation for alternative solver options:\n",
      "    https://scikit-learn.org/stable/modules/linear_model.html#logistic-regression\n",
      "  extra_warning_msg=_LOGISTIC_SOLVER_CONVERGENCE_MSG,\n",
      "/opt/conda/lib/python3.7/site-packages/sklearn/linear_model/_logistic.py:818: ConvergenceWarning: lbfgs failed to converge (status=1):\n",
      "STOP: TOTAL NO. of ITERATIONS REACHED LIMIT.\n",
      "\n",
      "Increase the number of iterations (max_iter) or scale the data as shown in:\n",
      "    https://scikit-learn.org/stable/modules/preprocessing.html\n",
      "Please also refer to the documentation for alternative solver options:\n",
      "    https://scikit-learn.org/stable/modules/linear_model.html#logistic-regression\n",
      "  extra_warning_msg=_LOGISTIC_SOLVER_CONVERGENCE_MSG,\n",
      "/opt/conda/lib/python3.7/site-packages/sklearn/linear_model/_logistic.py:818: ConvergenceWarning: lbfgs failed to converge (status=1):\n",
      "STOP: TOTAL NO. of ITERATIONS REACHED LIMIT.\n",
      "\n",
      "Increase the number of iterations (max_iter) or scale the data as shown in:\n",
      "    https://scikit-learn.org/stable/modules/preprocessing.html\n",
      "Please also refer to the documentation for alternative solver options:\n",
      "    https://scikit-learn.org/stable/modules/linear_model.html#logistic-regression\n",
      "  extra_warning_msg=_LOGISTIC_SOLVER_CONVERGENCE_MSG,\n",
      "/opt/conda/lib/python3.7/site-packages/sklearn/linear_model/_logistic.py:818: ConvergenceWarning: lbfgs failed to converge (status=1):\n",
      "STOP: TOTAL NO. of ITERATIONS REACHED LIMIT.\n",
      "\n",
      "Increase the number of iterations (max_iter) or scale the data as shown in:\n",
      "    https://scikit-learn.org/stable/modules/preprocessing.html\n",
      "Please also refer to the documentation for alternative solver options:\n",
      "    https://scikit-learn.org/stable/modules/linear_model.html#logistic-regression\n",
      "  extra_warning_msg=_LOGISTIC_SOLVER_CONVERGENCE_MSG,\n",
      "/opt/conda/lib/python3.7/site-packages/sklearn/linear_model/_logistic.py:818: ConvergenceWarning: lbfgs failed to converge (status=1):\n",
      "STOP: TOTAL NO. of ITERATIONS REACHED LIMIT.\n",
      "\n",
      "Increase the number of iterations (max_iter) or scale the data as shown in:\n",
      "    https://scikit-learn.org/stable/modules/preprocessing.html\n",
      "Please also refer to the documentation for alternative solver options:\n",
      "    https://scikit-learn.org/stable/modules/linear_model.html#logistic-regression\n",
      "  extra_warning_msg=_LOGISTIC_SOLVER_CONVERGENCE_MSG,\n"
     ]
    }
   ],
   "source": [
    "e1 = [(\"lr\", e1_lr), (\"xgb\", e1_xgboost), (\"rf\", e1_rf)]\n",
    "e2 = [(\"lr\", e2_lr), (\"rf\", e2_rf), (\"nn\", e2_sknn)]\n",
    "e3 = [(\"lr\", e3_lr), (\"xgb\", e3_xgboost), (\"rf\", e3_rf), (\"nn\", e3_sknn)]\n",
    "\n",
    "for e in [e1, e2, e3]:\n",
    "    print(f\"\\nEnsemble{[m[0] for m in e]}:\\n\")\n",
    "    y_pred, _ = avg_ensemble_predict(e, X_test)\n",
    "    print_stats(y_test, y_pred)\n",
    "    drow_roc_curve(y_test, y_pred)"
   ]
  }
 ],
 "metadata": {
  "kernelspec": {
   "display_name": "TensorFlow 2 [conda env:root] * (Local)",
   "language": "python",
   "name": "local-conda-root-tf2"
  },
  "language_info": {
   "codemirror_mode": {
    "name": "ipython",
    "version": 3
   },
   "file_extension": ".py",
   "mimetype": "text/x-python",
   "name": "python",
   "nbconvert_exporter": "python",
   "pygments_lexer": "ipython3",
   "version": "3.7.12"
  }
 },
 "nbformat": 4,
 "nbformat_minor": 5
}
